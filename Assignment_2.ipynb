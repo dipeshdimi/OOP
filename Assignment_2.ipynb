{
  "nbformat": 4,
  "nbformat_minor": 0,
  "metadata": {
    "colab": {
      "name": "Assignment-2.ipynb",
      "provenance": []
    },
    "kernelspec": {
      "name": "python3",
      "display_name": "Python 3"
    },
    "language_info": {
      "name": "python"
    }
  },
  "cells": [
    {
      "cell_type": "markdown",
      "metadata": {
        "id": "n_4kUZGUDvJJ"
      },
      "source": [
        "# Python Statements"
      ]
    },
    {
      "cell_type": "code",
      "metadata": {
        "id": "zLlgy8a_DI6M"
      },
      "source": [
        "var1 = 10     # is a single-line assignment statement"
      ],
      "execution_count": 1,
      "outputs": []
    },
    {
      "cell_type": "code",
      "metadata": {
        "id": "fI-jPWKUEDRQ"
      },
      "source": [
        "temp = (10 + 32 + 53 +\n",
        "    40 + 52 + 46 +\n",
        "    27 + 68 + 59)       # Multiline statement"
      ],
      "execution_count": 2,
      "outputs": []
    },
    {
      "cell_type": "markdown",
      "metadata": {
        "id": "h4BRzUVsEeZb"
      },
      "source": [
        "# Python Indentation"
      ]
    },
    {
      "cell_type": "code",
      "metadata": {
        "colab": {
          "base_uri": "https://localhost:8080/"
        },
        "id": "vX-quHgvEdPV",
        "outputId": "848fa368-ebf3-4098-f472-68b45b10c99e"
      },
      "source": [
        "for k in range(1,10) :\n",
        "    print(k)\n",
        "    if k == 5 + 4:\n",
        "        break\n",
        "\n",
        "if True:\n",
        "    print('Hello')\n",
        "    a = 5\n",
        "\n",
        "if True: print('Hello'); a = 5"
      ],
      "execution_count": 5,
      "outputs": [
        {
          "output_type": "stream",
          "text": [
            "1\n",
            "2\n",
            "3\n",
            "4\n",
            "5\n",
            "6\n",
            "7\n",
            "8\n",
            "9\n",
            "Hello\n",
            "Hello\n"
          ],
          "name": "stdout"
        }
      ]
    },
    {
      "cell_type": "markdown",
      "metadata": {
        "id": "zry6HPscEwAn"
      },
      "source": [
        "# Python Comments"
      ]
    },
    {
      "cell_type": "code",
      "metadata": {
        "colab": {
          "base_uri": "https://localhost:8080/",
          "height": 53
        },
        "id": "88ImYZrOEzoU",
        "outputId": "9de772d5-e74d-43c8-94a2-e3c23fc0b9ee"
      },
      "source": [
        "#   This is a comment\n",
        "#   print name of the course\n",
        "\n",
        "print('Python Comeents -> Single-line and Multi-line')\n",
        "\n",
        "\n",
        "\"\"\"This is also a\n",
        "an example of\n",
        "multi-line comments\"\"\""
      ],
      "execution_count": 4,
      "outputs": [
        {
          "output_type": "stream",
          "text": [
            "Python Comeents -> Single-line and Multi-line\n"
          ],
          "name": "stdout"
        },
        {
          "output_type": "execute_result",
          "data": {
            "application/vnd.google.colaboratory.intrinsic+json": {
              "type": "string"
            },
            "text/plain": [
              "'This is also a\\nan example of\\nmulti-line comments'"
            ]
          },
          "metadata": {},
          "execution_count": 4
        }
      ]
    },
    {
      "cell_type": "markdown",
      "metadata": {
        "id": "H26nk89xGNLG"
      },
      "source": [
        "# Python Variables"
      ]
    },
    {
      "cell_type": "markdown",
      "metadata": {
        "id": "Qqxt83OPGdbk"
      },
      "source": [
        ""
      ]
    },
    {
      "cell_type": "code",
      "metadata": {
        "colab": {
          "base_uri": "https://localhost:8080/"
        },
        "id": "kRsowQHKGRO_",
        "outputId": "81200501-bda5-4b3d-d05b-0d137e248fce"
      },
      "source": [
        "\n",
        "name = \"Python Practice\"    # String Variable\n",
        "Myage=Herage= 45       \n",
        "\"\"\" Int variable\n",
        "    Assigning single value to multiple variables \"\"\"\n",
        "a=b=c=90  \n",
        "a=b=c=4,5,6               \n",
        "a,b,c=4,5,6            # Assigning multiple values to multiple variables:\n",
        "\n",
        "print(name)  \n",
        "print(Myage,Herage)  \n",
        "print(a,b,c) \n",
        "\n",
        "name = \"Test1\"  \n",
        "Name = \"Test2\"  \n",
        "naMe = \"Test3\"  \n",
        "NAME = \"Test4\"  \n",
        "n_a_m_e = \"Test5\"  \n",
        "_name = \"Test6\"  \n",
        "name_ = \"Test7\"  \n",
        "_name_ = \"Test8\"  \n",
        "na80me = \"Test9\"  \n",
        "print(name,Name,naMe,NAME)            # Print multiple values  \n",
        "print(name,Name,naMe,NAME,n_a_m_e, NAME, n_a_m_e, _name, name_,_name, na80me)"
      ],
      "execution_count": 14,
      "outputs": [
        {
          "output_type": "stream",
          "text": [
            "Python Practice\n",
            "45 45\n",
            "4 5 6\n",
            "Test1 Test2 Test3 Test4\n",
            "Test1 Test2 Test3 Test4 Test5 Test4 Test5 Test6 Test7 Test6 Test9\n"
          ],
          "name": "stdout"
        }
      ]
    },
    {
      "cell_type": "markdown",
      "metadata": {
        "id": "jZWZf-2IHMsQ"
      },
      "source": [
        "# Operators"
      ]
    },
    {
      "cell_type": "markdown",
      "metadata": {
        "id": "TQzYTWaxMIMe"
      },
      "source": [
        "\n",
        "Arithmetic Operators"
      ]
    },
    {
      "cell_type": "code",
      "metadata": {
        "colab": {
          "base_uri": "https://localhost:8080/"
        },
        "id": "q0PJLBwYHQZ1",
        "outputId": "8817794d-c0c2-4981-b884-e636c09b5df4"
      },
      "source": [
        "m = 15\n",
        "n = 4\n",
        "\n",
        "# Output: m + n = 19\n",
        "print('m + n =',m+n)\n",
        "\n",
        "# Output: m - n = 11\n",
        "print('m - n =',m-n)\n",
        "\n",
        "# Output: m * n = 60\n",
        "print('m * n =',m*n)\n",
        "\n",
        "# Output: m / n = 3.75\n",
        "print('m / n =',m/n)\n",
        "\n",
        "# Output: m // n = 3\n",
        "print('m // n =',m//n)\n",
        "\n",
        "# Output: m ** n = 50625\n",
        "print('m ** n =',m**n)\n"
      ],
      "execution_count": 13,
      "outputs": [
        {
          "output_type": "stream",
          "text": [
            "m + n = 19\n",
            "m - n = 11\n",
            "m * n = 60\n",
            "m / n = 3.75\n",
            "m // n = 3\n",
            "m ** n = 50625\n"
          ],
          "name": "stdout"
        }
      ]
    },
    {
      "cell_type": "markdown",
      "metadata": {
        "id": "lqr12D6kMRx-"
      },
      "source": [
        "Comparison Operators"
      ]
    },
    {
      "cell_type": "code",
      "metadata": {
        "colab": {
          "base_uri": "https://localhost:8080/"
        },
        "id": "fle9_h2aMSoW",
        "outputId": "697fac45-5043-48d7-9cf3-3009a94b94de"
      },
      "source": [
        "a = 10\n",
        "b = 12\n",
        "\n",
        "# Output: a > b is False\n",
        "print('a > b is',a>b)\n",
        "\n",
        "# Output: a < b is True\n",
        "print('a < b is',a<b)\n",
        "\n",
        "# Output: a == b is False\n",
        "print('a == b is',a==b)\n",
        "\n",
        "# Output: a != b is True\n",
        "print('a != b is',a!=b)\n",
        "\n",
        "# Output: a >= b is False\n",
        "print('a >= b is',a>=b)\n",
        "\n",
        "# Output: a <= b is True\n",
        "print('a <= b is',a<=b)"
      ],
      "execution_count": 12,
      "outputs": [
        {
          "output_type": "stream",
          "text": [
            "a > b is False\n",
            "a < b is True\n",
            "a == b is False\n",
            "a != b is True\n",
            "a >= b is False\n",
            "a <= b is True\n"
          ],
          "name": "stdout"
        }
      ]
    },
    {
      "cell_type": "markdown",
      "metadata": {
        "id": "L7KICZq3M6S2"
      },
      "source": [
        "Logical Operators"
      ]
    },
    {
      "cell_type": "code",
      "metadata": {
        "colab": {
          "base_uri": "https://localhost:8080/"
        },
        "id": "ApQRwWATM64j",
        "outputId": "f5b2e951-bfab-4127-b6c9-94b2b9cf8ef4"
      },
      "source": [
        "m = True\n",
        "n = False\n",
        "\n",
        "print('m and n is',m and n)\n",
        "\n",
        "print('x or y is',x or y)\n",
        "\n",
        "print('not x is',not x)"
      ],
      "execution_count": 11,
      "outputs": [
        {
          "output_type": "stream",
          "text": [
            "m and n is False\n",
            "x or y is Hello world\n",
            "not x is False\n"
          ],
          "name": "stdout"
        }
      ]
    },
    {
      "cell_type": "markdown",
      "metadata": {
        "id": "Gd-3qb-rM8_D"
      },
      "source": [
        "Bitwise operators"
      ]
    },
    {
      "cell_type": "code",
      "metadata": {
        "colab": {
          "base_uri": "https://localhost:8080/"
        },
        "id": "dvE4MupdM_IZ",
        "outputId": "ef28d810-5967-4042-f8a7-d7ee020efd35"
      },
      "source": [
        "x=10\n",
        "y= 4\n",
        "print(x&y)\n",
        "print(x|y)\n",
        "print(x^y)\n",
        "print(x<<y)\n",
        "print(x>>y)"
      ],
      "execution_count": 18,
      "outputs": [
        {
          "output_type": "stream",
          "text": [
            "0\n",
            "14\n",
            "14\n",
            "160\n",
            "0\n"
          ],
          "name": "stdout"
        }
      ]
    },
    {
      "cell_type": "markdown",
      "metadata": {
        "id": "D_jwPYJ4NBVQ"
      },
      "source": [
        "Assignment operators"
      ]
    },
    {
      "cell_type": "code",
      "metadata": {
        "colab": {
          "base_uri": "https://localhost:8080/"
        },
        "id": "zhK10fsLNCC0",
        "outputId": "27834c2f-842d-4eea-a6c9-695d4f3f9f85"
      },
      "source": [
        "a=2\n",
        "a += 5\n",
        "a %= 5\n",
        "a **= 5\n",
        "a //= 5\n",
        "print(a)"
      ],
      "execution_count": 8,
      "outputs": [
        {
          "output_type": "stream",
          "text": [
            "6\n"
          ],
          "name": "stdout"
        }
      ]
    },
    {
      "cell_type": "markdown",
      "metadata": {
        "id": "Pad532J6NDqB"
      },
      "source": [
        "Identity operators"
      ]
    },
    {
      "cell_type": "code",
      "metadata": {
        "colab": {
          "base_uri": "https://localhost:8080/"
        },
        "id": "kxg3A3fJNEC8",
        "outputId": "520ec88c-4e90-46f4-c051-bc1e98bbec42"
      },
      "source": [
        "x1 = 10\n",
        "y1 = 10\n",
        "x2 = 'Welcome'\n",
        "y2 = 'Welcome'\n",
        "x3 = [10,20,30]\n",
        "y3 = [10,20,30]\n",
        "\n",
        "# Output: False\n",
        "print(x1 is not y1)\n",
        "\n",
        "# Output: True\n",
        "print(x2 is y2)\n",
        "\n",
        "# Output: False\n",
        "print(x3 is y3)"
      ],
      "execution_count": 9,
      "outputs": [
        {
          "output_type": "stream",
          "text": [
            "False\n",
            "True\n",
            "False\n"
          ],
          "name": "stdout"
        }
      ]
    },
    {
      "cell_type": "markdown",
      "metadata": {
        "id": "ANzQu8kDNGXv"
      },
      "source": [
        "Membership Operators"
      ]
    },
    {
      "cell_type": "code",
      "metadata": {
        "colab": {
          "base_uri": "https://localhost:8080/"
        },
        "id": "LSpDj7eJNH66",
        "outputId": "ff76df6d-e373-4e2e-c20e-112e875a8dd4"
      },
      "source": [
        "x = 'Hello world'\n",
        "y = {1:'a',2:'b'}\n",
        "\n",
        "# Output: True\n",
        "print('H' in x)\n",
        "\n",
        "# Output: True\n",
        "print('hello' not in x)\n",
        "\n",
        "# Output: True\n",
        "print(1 in y)\n",
        "\n",
        "# Output: False\n",
        "print('a' in y)"
      ],
      "execution_count": 7,
      "outputs": [
        {
          "output_type": "stream",
          "text": [
            "True\n",
            "True\n",
            "True\n",
            "False\n"
          ],
          "name": "stdout"
        }
      ]
    },
    {
      "cell_type": "markdown",
      "metadata": {
        "id": "mDVuYiHQNv8x"
      },
      "source": [
        "# Data Types"
      ]
    },
    {
      "cell_type": "markdown",
      "metadata": {
        "id": "eWtAzyc-OBZz"
      },
      "source": [
        "Numeric"
      ]
    },
    {
      "cell_type": "code",
      "metadata": {
        "colab": {
          "base_uri": "https://localhost:8080/"
        },
        "id": "tjmgGzOEOOM7",
        "outputId": "0182d9ab-791c-4610-c926-528caa476d57"
      },
      "source": [
        "a = 5  \n",
        "print(\"The type of a\", type(a))  \n",
        "  \n",
        "b = 50.5  \n",
        "print(\"The type of b\", type(b))  \n",
        "  \n",
        "c = 1+3j  \n",
        "print(\"The type of c\", type(c))  \n",
        "print(\" c is a complex number\", isinstance(1+3j,complex))"
      ],
      "execution_count": 6,
      "outputs": [
        {
          "output_type": "stream",
          "text": [
            "The type of a <class 'int'>\n",
            "The type of b <class 'float'>\n",
            "The type of c <class 'complex'>\n",
            " c is a complex number True\n"
          ],
          "name": "stdout"
        }
      ]
    },
    {
      "cell_type": "markdown",
      "metadata": {
        "id": "jF-e_gzFPUoH"
      },
      "source": [
        "String"
      ]
    },
    {
      "cell_type": "code",
      "metadata": {
        "colab": {
          "base_uri": "https://localhost:8080/"
        },
        "id": "hk_Mi73tPWtO",
        "outputId": "251ce81f-f69e-433e-aa6e-68d8bf6b6f98"
      },
      "source": [
        "str = \"This sentence has  double quotes\"  \n",
        "print(str)  \n",
        "s1 = '''''This line has multiline \n",
        "string'''  \n",
        "print(s1)\n",
        "\n",
        "str1 = 'hello world'         #string str1    \n",
        "str2 = ' Happy Holidays'      #string str2    \n",
        "print (str1[0:2])            #printing first two character using slice operator    \n",
        "print (str1[4])             #printing 4th character of the string    \n",
        "print (str1*2)               #printing the string twice    \n",
        "print (str1 + str2)          #printing the concatenation of str1 and str2"
      ],
      "execution_count": 19,
      "outputs": [
        {
          "output_type": "stream",
          "text": [
            "This sentence has  double quotes\n",
            "''This line has multiline \n",
            "string\n",
            "he\n",
            "o\n",
            "hello worldhello world\n",
            "hello world Happy Holidays\n"
          ],
          "name": "stdout"
        }
      ]
    },
    {
      "cell_type": "markdown",
      "metadata": {
        "id": "dyAejT56Pb_a"
      },
      "source": [
        "List"
      ]
    },
    {
      "cell_type": "code",
      "metadata": {
        "colab": {
          "base_uri": "https://localhost:8080/"
        },
        "id": "uWQNWihOPgil",
        "outputId": "8abef2d4-7f3f-4efb-eb0c-9b749916c199"
      },
      "source": [
        "list1  = [1, \"hi\", \"Python\", 2]    \n",
        "#Checking type of given list  \n",
        "print(type(list1))  \n",
        "  \n",
        "#Printing the list1  \n",
        "print (list1)  \n",
        "  \n",
        "# List slicing  \n",
        "print (list1[3:])  \n",
        "  \n",
        "# List slicing  \n",
        "print (list1[0:2])   \n",
        "  \n",
        "# List Concatenation using + operator  \n",
        "print (list1 + list1)  \n",
        "  \n",
        "# List repetation using * operator  \n",
        "print (list1 * 3)"
      ],
      "execution_count": 20,
      "outputs": [
        {
          "output_type": "stream",
          "text": [
            "<class 'list'>\n",
            "[1, 'hi', 'Python', 2]\n",
            "[2]\n",
            "[1, 'hi']\n",
            "[1, 'hi', 'Python', 2, 1, 'hi', 'Python', 2]\n",
            "[1, 'hi', 'Python', 2, 1, 'hi', 'Python', 2, 1, 'hi', 'Python', 2]\n"
          ],
          "name": "stdout"
        }
      ]
    },
    {
      "cell_type": "markdown",
      "metadata": {
        "id": "s6sJh-1xPoAQ"
      },
      "source": [
        "Tuple"
      ]
    },
    {
      "cell_type": "code",
      "metadata": {
        "id": "iiltJRvfPp58"
      },
      "source": [
        "tup  = (\"hi\", \"Python\", 2)    \n",
        "# Checking type of tup  \n",
        "print (type(tup))    \n",
        "  \n",
        "#Printing the tuple  \n",
        "print (tup)  \n",
        "  \n",
        "# Tuple slicing  \n",
        "print (tup[1:])    \n",
        "print (tup[0:1])    \n",
        "  \n",
        "# Tuple concatenation using + operator  \n",
        "print (tup + tup)    \n",
        "  \n",
        "# Tuple repatation using * operator  \n",
        "print (tup * 3)     \n",
        "  \n",
        "# Adding value to tup. It will throw an error.  \n",
        "t[2] = \"hi\""
      ],
      "execution_count": null,
      "outputs": []
    },
    {
      "cell_type": "markdown",
      "metadata": {
        "id": "XKJ0I7Y6Prk_"
      },
      "source": [
        "Dictionary"
      ]
    },
    {
      "cell_type": "code",
      "metadata": {
        "id": "jvhLpT1BPtbO"
      },
      "source": [
        "dict = {1:'Karnataka', 2:'Kerala', 3:'UP', 4:'Punjab'}     \n",
        "  \n",
        "# Printing dictionary  \n",
        "print (dict)  \n",
        "  \n",
        "# Accesing value using keys  \n",
        "print(\"1st name is \"+dict[1])   \n",
        "print(\"2nd name is \"+ dict[4])    \n",
        "  \n",
        "print (dict.keys())    \n",
        "print (dict.values())"
      ],
      "execution_count": null,
      "outputs": []
    },
    {
      "cell_type": "markdown",
      "metadata": {
        "id": "f5SQ-hjEPuoy"
      },
      "source": [
        "Boolean"
      ]
    },
    {
      "cell_type": "code",
      "metadata": {
        "id": "6jL7gT3dPw2u"
      },
      "source": [
        "# Python program to check the boolean type  \n",
        "\n",
        "print(type(True))  \n",
        "print(type(False))  \n",
        "print(false)"
      ],
      "execution_count": null,
      "outputs": []
    },
    {
      "cell_type": "markdown",
      "metadata": {
        "id": "N8XecapyPys8"
      },
      "source": [
        "Set"
      ]
    },
    {
      "cell_type": "code",
      "metadata": {
        "id": "X6CrncOrPz1U"
      },
      "source": [
        "# Creating Empty set  \n",
        "set1 = set()  \n",
        "  \n",
        "set2 = {'India', 20.4, 100,'OOP'}  \n",
        "  \n",
        "#Printing Set value  \n",
        "print(set2)  \n",
        "  \n",
        "# Adding element to the set  \n",
        "  \n",
        "set2.add(10)  \n",
        "print(set2)  \n",
        "  \n",
        "#Removing element from the set  \n",
        "set2.remove(2)  \n",
        "print(set2)"
      ],
      "execution_count": null,
      "outputs": []
    },
    {
      "cell_type": "markdown",
      "metadata": {
        "id": "dgDcaeuMQUmR"
      },
      "source": [
        "# Control Statements"
      ]
    },
    {
      "cell_type": "markdown",
      "metadata": {
        "id": "FjCigUcXQZlk"
      },
      "source": [
        "if-elif-else Statement"
      ]
    },
    {
      "cell_type": "code",
      "metadata": {
        "colab": {
          "base_uri": "https://localhost:8080/"
        },
        "id": "gT6fSKVDQbcZ",
        "outputId": "c1ff75ff-ddef-43c0-b165-00d26c5ae874"
      },
      "source": [
        "\n",
        "grade = input(\"Enter your grade: \")\n",
        "\n",
        "if grade == 'A' or grade == 'B':\n",
        "    print(\"Well Performed\")\n",
        "    if grade == 'A':\n",
        "        print(\"Excellent\")\n",
        "    else:\n",
        "        print(\"Good\")\n",
        "elif grade == 'C' or grade == 'D':\n",
        "    print(\"Need Improvement\")\n",
        "else :\n",
        "    print(\"Fail\")"
      ],
      "execution_count": 24,
      "outputs": [
        {
          "output_type": "stream",
          "text": [
            "Enter your grade: B\n",
            "Well Performed\n",
            "Good\n"
          ],
          "name": "stdout"
        }
      ]
    },
    {
      "cell_type": "markdown",
      "metadata": {
        "id": "aYHF8XwRUpU7"
      },
      "source": [
        "for Loop"
      ]
    },
    {
      "cell_type": "code",
      "metadata": {
        "id": "UM9wZoUMUxm1"
      },
      "source": [
        "\n",
        "# program to display student's marks from record\n",
        "student_name = 'Soyuj'\n",
        "\n",
        "marks = {'James': 90, 'Jules': 55, 'Arthur': 77}\n",
        "\n",
        "for student in marks:\n",
        "    if student == student_name:\n",
        "        print(marks[student])\n",
        "        break\n",
        "else:\n",
        "    print('No entry with that name found.')\n",
        "\n",
        "\n",
        "# Use of break statement inside the loop\n",
        "\n",
        "for val in \"string\":\n",
        "    if val == \"i\":\n",
        "        break\n",
        "    print(val)\n",
        "\n",
        "print(\"The end\")\n",
        "\n",
        "\n",
        "# Program to show the use of continue statement inside loops\n",
        "\n",
        "for val in \"string\":\n",
        "    if val == \"i\":\n",
        "        continue\n",
        "    print(val)\n",
        "\n",
        "print(\"The end\")"
      ],
      "execution_count": null,
      "outputs": []
    },
    {
      "cell_type": "markdown",
      "metadata": {
        "id": "da42cM0nUvCR"
      },
      "source": [
        "while Loop"
      ]
    },
    {
      "cell_type": "code",
      "metadata": {
        "id": "kGh0OmaxUw1-"
      },
      "source": [
        ""
      ],
      "execution_count": null,
      "outputs": []
    }
  ]
}