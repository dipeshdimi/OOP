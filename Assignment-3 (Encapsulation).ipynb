{
  "nbformat": 4,
  "nbformat_minor": 0,
  "metadata": {
    "colab": {
      "name": "Encapsulation.ipynb",
      "provenance": [],
      "collapsed_sections": []
    },
    "kernelspec": {
      "name": "python3",
      "display_name": "Python 3"
    },
    "language_info": {
      "name": "python"
    }
  },
  "cells": [
    {
      "cell_type": "markdown",
      "metadata": {
        "id": "gVvQ-oQnD7gA"
      },
      "source": [
        "# Program -1 - C++ - Encapsulation - Public variables"
      ]
    },
    {
      "cell_type": "code",
      "metadata": {
        "colab": {
          "base_uri": "https://localhost:8080/"
        },
        "id": "Nzk9q5VCD5_8",
        "outputId": "8ef279ce-8feb-4946-998c-909f439e71a5"
      },
      "source": [
        "%%writefile Encapsulation.cpp\n",
        "#include <iostream>\n",
        "using namespace std;\n",
        "\n",
        "class OOP_Assignment\n",
        "{\n",
        "    public:\n",
        "      int marks = 10;\n",
        "      int total = 15;\n",
        "      int percent()\n",
        "      {\n",
        "          return (marks*100)/total;\n",
        "      }\n",
        "};\n",
        "\n",
        "int main()\n",
        "{\n",
        "    OOP_Assignment obj;\n",
        "    cout<<\"Obtained Marks = \"<<obj.marks<<\"\\nTotal Marks = \"<<obj.total<<\"\\nPercentage Score = \"<<obj.percent()<<endl;\n",
        "    return 0;\n",
        "}"
      ],
      "execution_count": 27,
      "outputs": [
        {
          "output_type": "stream",
          "name": "stdout",
          "text": [
            "Overwriting Encapsulation.cpp\n"
          ]
        }
      ]
    },
    {
      "cell_type": "code",
      "metadata": {
        "colab": {
          "base_uri": "https://localhost:8080/"
        },
        "id": "nu1_XqgseSJH",
        "outputId": "347d8ec6-c322-4228-ef1c-90236d5c4f94"
      },
      "source": [
        "%%shell\n",
        "g++ Encapsulation.cpp -o output1\n",
        "./output1"
      ],
      "execution_count": 28,
      "outputs": [
        {
          "output_type": "stream",
          "name": "stdout",
          "text": [
            "Obtained Marks = 10\n",
            "Total Marks = 15\n",
            "Percentage Score = 66\n"
          ]
        },
        {
          "output_type": "execute_result",
          "data": {
            "text/plain": [
              ""
            ]
          },
          "metadata": {},
          "execution_count": 28
        }
      ]
    },
    {
      "cell_type": "markdown",
      "metadata": {
        "id": "ZqJqqF0Vfapv"
      },
      "source": [
        "# Program 2 - C++ - Encapsulation- Private Variables"
      ]
    },
    {
      "cell_type": "code",
      "metadata": {
        "colab": {
          "base_uri": "https://localhost:8080/"
        },
        "id": "GlNDa9GVfrjw",
        "outputId": "f49eb012-e0c6-42e8-ed2b-d19f41cffd7b"
      },
      "source": [
        "%%writefile Encapsulation.cpp\n",
        "#include<iostream>\n",
        "using namespace std;\n",
        "class ExampleEncap{\n",
        "private:\n",
        "   /* Since we have marked these data members private, any entity outside this class cannot access these\n",
        "    * data members directly, they have to use getter and setter functions. */\n",
        "   int num;\n",
        "   char ch;\n",
        "public:\n",
        "   /* Getter functions to get the value of data members. Since these functions are public, they can be accessed\n",
        "    * outside the class, thus provide the access to data members through them.  */\n",
        "   int getNum() const {\n",
        "      return num;\n",
        "   }\n",
        "   char getCh() const {\n",
        "      return ch;\n",
        "   }\n",
        "   /* Setter functions, they are called for assigning the values to the private data members.*/\n",
        "   void setNum(int num) {\n",
        "      this->num = num;\n",
        "   }\n",
        "   void setCh(char ch) {\n",
        "      this->ch = ch;\n",
        "   }\n",
        "};\n",
        "int main(){\n",
        "   ExampleEncap obj;\n",
        "   obj.setNum(100);\n",
        "   obj.setCh('A');\n",
        "   cout<<obj.getNum()<<endl;\n",
        "   cout<<obj.getCh()<<endl;\n",
        "   return 0;\n",
        "}"
      ],
      "execution_count": 29,
      "outputs": [
        {
          "output_type": "stream",
          "name": "stdout",
          "text": [
            "Overwriting Encapsulation.cpp\n"
          ]
        }
      ]
    },
    {
      "cell_type": "code",
      "metadata": {
        "colab": {
          "base_uri": "https://localhost:8080/"
        },
        "id": "AdP7dZj9f3sW",
        "outputId": "68c1de7e-d7bd-491d-8833-61b3faef7062"
      },
      "source": [
        "%%shell\n",
        "g++ Encapsulation.cpp -o output2\n",
        "./output2"
      ],
      "execution_count": 30,
      "outputs": [
        {
          "output_type": "stream",
          "name": "stdout",
          "text": [
            "100\n",
            "A\n"
          ]
        },
        {
          "output_type": "execute_result",
          "data": {
            "text/plain": [
              ""
            ]
          },
          "metadata": {},
          "execution_count": 30
        }
      ]
    },
    {
      "cell_type": "markdown",
      "metadata": {
        "id": "5R1rN4WYxQ54"
      },
      "source": [
        "# Problem 3 - C++ - Encapsulation - Constructor"
      ]
    },
    {
      "cell_type": "code",
      "metadata": {
        "colab": {
          "base_uri": "https://localhost:8080/"
        },
        "id": "U_xmaEyXgKE2",
        "outputId": "0efb9afc-cc4d-406e-c2e6-dcbe37c21767"
      },
      "source": [
        "%%writefile Encapsulation.cpp\n",
        "#include <iostream>\n",
        "using namespace std;\n",
        "class Adder {\n",
        "   public:\n",
        "      Adder(int i = 0) {             // constructor\n",
        "         total = i;\n",
        "      }\n",
        "      void addNum(int number) {         // interface to outside world\n",
        "         total += number;\n",
        "      }\n",
        "      int getTotal() {         // interface to outside world\n",
        "         return total;\n",
        "      };  \n",
        "   private:\n",
        "      // hidden data from outside world\n",
        "      int total;\n",
        "};\n",
        "int main() {\n",
        "   Adder obj1;  \n",
        "   obj1.addNum(10);\n",
        "   obj1.addNum(20);\n",
        "   obj1.addNum(30);\n",
        "   cout << \"Total \" << obj1.getTotal() <<endl;\n",
        "   return 0;\n",
        "}         "
      ],
      "execution_count": 31,
      "outputs": [
        {
          "output_type": "stream",
          "name": "stdout",
          "text": [
            "Overwriting Encapsulation.cpp\n"
          ]
        }
      ]
    },
    {
      "cell_type": "code",
      "metadata": {
        "colab": {
          "base_uri": "https://localhost:8080/"
        },
        "id": "P8Z48yuqxb1I",
        "outputId": "1394fa31-19ce-4684-d171-570c07df584f"
      },
      "source": [
        "%%shell\n",
        "g++ Encapsulation.cpp -o output3\n",
        "./output3"
      ],
      "execution_count": 32,
      "outputs": [
        {
          "output_type": "stream",
          "name": "stdout",
          "text": [
            "Total 60\n"
          ]
        },
        {
          "output_type": "execute_result",
          "data": {
            "text/plain": [
              ""
            ]
          },
          "metadata": {},
          "execution_count": 32
        }
      ]
    },
    {
      "cell_type": "markdown",
      "metadata": {
        "id": "Twe_-SdQxk0U"
      },
      "source": [
        "# Problem 4 - C++ - Encapsulation - Private variables and Public funcions"
      ]
    },
    {
      "cell_type": "code",
      "metadata": {
        "colab": {
          "base_uri": "https://localhost:8080/"
        },
        "id": "0XgKTAHIx0AF",
        "outputId": "fc7ab9d4-b82e-47a7-b810-1c0e3da2db63"
      },
      "source": [
        "%%writefile Encapsulation.cpp\n",
        "#include <iostream>\n",
        "using namespace std;\n",
        "\n",
        "class Rectangle {\n",
        "   private:\n",
        "    int length;        // Variables required for area calculation\n",
        "    int breadth;\n",
        "   public:\n",
        "    void setLength(int len) {       // Setter function for length\n",
        "      length = len;\n",
        "    }\n",
        "    void setBreadth(int brth) {       // Setter function for breadth\n",
        "      breadth = brth;\n",
        "    }\n",
        "    int getLength() {         // Getter function for length\n",
        "      return length;\n",
        "    }\n",
        "    int getBreadth() {      // Getter function for breadth\n",
        "      return breadth;\n",
        "    }\n",
        "    int getArea() {           // Function to calculate area\n",
        "      return length * breadth;\n",
        "    }\n",
        "};\n",
        "int main() {\n",
        "  Rectangle rectangle1;       // Create object of Rectangle class\n",
        "  rectangle1.setLength(12);     // Initialize length using Setter function\n",
        "  rectangle1.setBreadth(15);    // Initialize breadth using Setter function\n",
        "  cout << \"Length = \" << rectangle1.getLength() << endl;     // Access length using Getter function\n",
        "  cout << \"Breadth = \" << rectangle1.getBreadth() << endl;   // Access breadth using Getter function\n",
        "  cout << \"Area = \" << rectangle1.getArea();     // Call getArea() function\n",
        "  return 0;\n",
        "}"
      ],
      "execution_count": 3,
      "outputs": [
        {
          "output_type": "stream",
          "name": "stdout",
          "text": [
            "Overwriting Encapsulation.cpp\n"
          ]
        }
      ]
    },
    {
      "cell_type": "code",
      "metadata": {
        "colab": {
          "base_uri": "https://localhost:8080/"
        },
        "id": "xdMHrmvAx72m",
        "outputId": "c42e6658-852b-4297-bbef-fe67f0ea1a0d"
      },
      "source": [
        "%%shell\n",
        "g++ Encapsulation.cpp -o output4\n",
        "./output4"
      ],
      "execution_count": 10,
      "outputs": [
        {
          "output_type": "stream",
          "name": "stdout",
          "text": [
            "Length = 12\n",
            "Breadth = 15\n",
            "Area = 180"
          ]
        },
        {
          "output_type": "execute_result",
          "data": {
            "text/plain": [
              ""
            ]
          },
          "metadata": {},
          "execution_count": 10
        }
      ]
    },
    {
      "cell_type": "markdown",
      "metadata": {
        "id": "Vepo6ribyAIq"
      },
      "source": [
        "# Program - 5 - Python"
      ]
    },
    {
      "cell_type": "code",
      "metadata": {
        "colab": {
          "base_uri": "https://localhost:8080/"
        },
        "id": "oTLPss-tyD9Q",
        "outputId": "2ccd1020-ab83-4241-f1a7-b65b5b378d8a"
      },
      "source": [
        "# A Sample class with init method  \n",
        "class Country:  \n",
        "      \n",
        "    # init method or constructor   \n",
        "    def __init__(self,name):  \n",
        "        self.name = name \n",
        "      \n",
        "    # Sample Method   \n",
        "    def say_name(self):  \n",
        "        print('Hello, Country name is', self.name)  \n",
        "  \n",
        "# Creating different objects     \n",
        "c1 = Country('UK') \n",
        "c2 = Country('USA')\n",
        "c3 = Country('India')\n",
        "  \n",
        "c1.say_name()  \n",
        "c2.say_name()\n",
        "c3.say_name()\n"
      ],
      "execution_count": 4,
      "outputs": [
        {
          "output_type": "stream",
          "name": "stdout",
          "text": [
            "Hello, Country name is UK\n",
            "Hello, Country name is USA\n",
            "Hello, Country name is India\n"
          ]
        }
      ]
    },
    {
      "cell_type": "markdown",
      "metadata": {
        "id": "nwvSlWenyGlw"
      },
      "source": [
        "# Program 6 - Python"
      ]
    },
    {
      "cell_type": "code",
      "metadata": {
        "colab": {
          "base_uri": "https://localhost:8080/"
        },
        "id": "_U52IE1_yG7Q",
        "outputId": "58dad32d-b3bc-4dae-e71e-81d3ac0266ed"
      },
      "source": [
        "         \n",
        "\n",
        "class Car:\n",
        "    __maxspeed = 0\n",
        "    __name = \"\"    \n",
        "    def __init__(self):\n",
        "        self.__maxspeed = 400\n",
        "        self.__name = \"Supercar\"    \n",
        "    def drive(self):\n",
        "        print('driving. maxspeed ' + str(self.__maxspeed))\n",
        "    \n",
        "\n",
        "redcar = Car()\n",
        "redcar.drive()\n",
        "mxspeed =10\n",
        "redcar.__maxspeed = 10        # will not change variable because its private\n",
        "redcar.drive()"
      ],
      "execution_count": 25,
      "outputs": [
        {
          "output_type": "stream",
          "name": "stdout",
          "text": [
            "driving. maxspeed 400\n",
            "driving. maxspeed 400\n"
          ]
        }
      ]
    },
    {
      "cell_type": "markdown",
      "metadata": {
        "id": "-Ls3HAzCyHV5"
      },
      "source": [
        "# Program 7 - Python"
      ]
    },
    {
      "cell_type": "code",
      "metadata": {
        "colab": {
          "base_uri": "https://localhost:8080/"
        },
        "id": "gOrAd2j6yHr8",
        "outputId": "3aeba166-ecac-41b5-9a52-9ed58b579ee0"
      },
      "source": [
        "# Python program to demonstrate private members\n",
        " \n",
        "# Creating a Base class\n",
        "class Base:\n",
        "    def __init__(self):\n",
        "        self.a = \"OOP Course\"\n",
        "        self.__c = \"IIIT DWD\"\n",
        "        print(\"Calling private member of base class: \")\n",
        "        print(self.__c)\n",
        "# Driver code\n",
        "obj1 = Base()\n",
        "print(obj1.a)"
      ],
      "execution_count": 6,
      "outputs": [
        {
          "output_type": "stream",
          "name": "stdout",
          "text": [
            "Calling private member of base class: \n",
            "IIIT DWD\n",
            "OOP Course\n"
          ]
        }
      ]
    },
    {
      "cell_type": "code",
      "metadata": {
        "colab": {
          "base_uri": "https://localhost:8080/"
        },
        "id": "NQsW0ISFzEU2",
        "outputId": "7b2910d7-29f8-4f7e-b0e3-43df24b04b16"
      },
      "source": [
        "# Python program to demonstrate private members\n",
        " \n",
        "# Creating a Base class\n",
        "class Base:\n",
        "    def __init__(self):\n",
        "        self.a = \"OOP Course\"\n",
        "        self.__c = \"IIIT DWD\"\n",
        "# Creating a derived class\n",
        "class Derived(Base):\n",
        "    def __init__(self):   \n",
        "        # Calling constructor of Base class\n",
        "        Base.__init__(self)\n",
        "        print(\"Calling private member of base class: \")\n",
        "        print(self.__c)\n",
        "# Driver code\n",
        "obj1 = Base()\n",
        "print(obj1.a)"
      ],
      "execution_count": 7,
      "outputs": [
        {
          "output_type": "stream",
          "name": "stdout",
          "text": [
            "OOP Course\n"
          ]
        }
      ]
    },
    {
      "cell_type": "markdown",
      "metadata": {
        "id": "5rwO0WoFyH5w"
      },
      "source": [
        "# Program 8 - C++"
      ]
    },
    {
      "cell_type": "code",
      "metadata": {
        "colab": {
          "base_uri": "https://localhost:8080/"
        },
        "id": "0_HcAPxNyILS",
        "outputId": "db171534-8d03-4272-f2fb-08d3ddc45ab1"
      },
      "source": [
        "%%writefile Encapsulation.cpp\n",
        "#include <iostream>\n",
        "using namespace std;\n",
        "\n",
        "class stud \n",
        "{\n",
        "    public:\n",
        "    char name[30],clas[10];\n",
        "    int rol,age;\n",
        "\n",
        "    void enter() \n",
        "    { \n",
        "        cout<<\"Enter Student Name: \"; cin>>name;    \n",
        "        cout<<\"Enter Student Age: \"; cin>>age;        \n",
        "        cout<<\"Enter Student Roll number: \"; cin>>rol;        \n",
        "        cout<<\"Enter Student Class: \"; cin>>clas;\n",
        "    }\n",
        "    \n",
        "    void display() \n",
        "    {\n",
        "        cout<<\"\\n Age\\tName\\tR.No.\\tClass\";\n",
        "        cout<<\"\\n\"<<age<<\"\\t\"<<name<<\"\\t\"<<rol<<\"\\t\"<<clas; \n",
        "    }\n",
        "};\n",
        "\n",
        "int main()\n",
        "{\n",
        "    class stud s;\n",
        "    s.enter();\n",
        "    s.display();\n",
        "    cin.get();    //use this to wait for a keypress\n",
        "    return 0;\n",
        "} "
      ],
      "execution_count": 15,
      "outputs": [
        {
          "output_type": "stream",
          "name": "stdout",
          "text": [
            "Overwriting Encapsulation.cpp\n"
          ]
        }
      ]
    },
    {
      "cell_type": "code",
      "metadata": {
        "colab": {
          "base_uri": "https://localhost:8080/"
        },
        "id": "6gXnN5JSzVJN",
        "outputId": "0910d4f6-ae72-4565-f773-89bfe1186602"
      },
      "source": [
        "%%shell\n",
        "g++ Encapsulation.cpp -o output5\n",
        "./output5"
      ],
      "execution_count": 18,
      "outputs": [
        {
          "output_type": "stream",
          "name": "stdout",
          "text": [
            "Enter Student Name: Dipesh\n",
            "Enter Student Age: 19\n",
            "Enter Student Roll number: 43\n",
            "Enter Student Class: Sem_3\n",
            "\n",
            " Age\tName\tR.No.\tClass\n",
            "19\tDipesh\t43\tSem_3"
          ]
        },
        {
          "output_type": "execute_result",
          "data": {
            "text/plain": [
              ""
            ]
          },
          "metadata": {},
          "execution_count": 18
        }
      ]
    },
    {
      "cell_type": "markdown",
      "metadata": {
        "id": "NfElv4DIyIYd"
      },
      "source": [
        "# Program 9 - Python"
      ]
    },
    {
      "cell_type": "code",
      "metadata": {
        "colab": {
          "base_uri": "https://localhost:8080/"
        },
        "id": "v23OGZyayIlC",
        "outputId": "e0b24b60-0918-4a48-87c0-2120dab6cfd4"
      },
      "source": [
        "class student:\n",
        "  count=0\n",
        "  def __init__(self,num) :\n",
        "    student.count=student.count+num\n",
        "\n",
        "s1=student(4)\n",
        "s2=student(5)\n",
        "s3=student(6)\n",
        "\n",
        "print(\"number of students in OOP class :\", student.count)\n",
        "print(\"number of students in OOP class:\", s2.count)\n",
        " "
      ],
      "execution_count": 19,
      "outputs": [
        {
          "output_type": "stream",
          "name": "stdout",
          "text": [
            "number of students in OOP class : 15\n",
            "number of students in OOP class: 15\n"
          ]
        }
      ]
    },
    {
      "cell_type": "markdown",
      "metadata": {
        "id": "06buFhO9yI1s"
      },
      "source": [
        "# Program 10 - Python"
      ]
    },
    {
      "cell_type": "code",
      "metadata": {
        "colab": {
          "base_uri": "https://localhost:8080/"
        },
        "id": "u05yGugDyJEP",
        "outputId": "105cce7a-7a7f-44bc-8a74-663a9fce73ce"
      },
      "source": [
        "# Example non parametrized constructors\n",
        "class student:\n",
        "  count=0\n",
        "  def __init__(self) :\n",
        "    print(\"This is non parametrized constructor with no arguments or parameters\") \n",
        "\n",
        "  def shownum(self,num):\n",
        "       print(\"number of students in OOP class :\", num * num)\n",
        "       return num\n",
        "s1=student()\n",
        "s2=student()\n",
        "s3=student()\n",
        "\n",
        "result1= s1.shownum(5)\n",
        "result2= s2.shownum(6)\n",
        "\n",
        "print(\"number of students in OOP class :\", result1,result2)\n"
      ],
      "execution_count": 20,
      "outputs": [
        {
          "output_type": "stream",
          "name": "stdout",
          "text": [
            "This is non parametrized constructor with no arguments or parameters\n",
            "This is non parametrized constructor with no arguments or parameters\n",
            "This is non parametrized constructor with no arguments or parameters\n",
            "number of students in OOP class : 25\n",
            "number of students in OOP class : 36\n",
            "number of students in OOP class : 5 6\n"
          ]
        }
      ]
    },
    {
      "cell_type": "markdown",
      "metadata": {
        "id": "bgD6m0110pI6"
      },
      "source": [
        "# Program 11 - Python"
      ]
    },
    {
      "cell_type": "code",
      "metadata": {
        "colab": {
          "base_uri": "https://localhost:8080/"
        },
        "id": "1IBr75Ck0s2p",
        "outputId": "3dc57123-2230-4d7e-d8c1-0047c41a030d"
      },
      "source": [
        "# Example parametrized constructors\n",
        "class student:\n",
        "  count=0\n",
        "  def __init__(self,stname,stage) :\n",
        "    self.name = stname\n",
        "    self.age = stage\n",
        "    print(\"This is parametrized constructor with no arguments or parameters\") \n",
        "\n",
        "  def display(self,styear):\n",
        "       print(\"Student joined IIIT Dharwad   :\", self.name, self.age, styear)\n",
        "       if styear <= 2020 :\n",
        "         print (\"Student has completed the course\")\n",
        "       return \n",
        "s1=student(\"Ram\",21)\n",
        "s2=student(\"Krishna\",23)\n",
        "s3=student(\"Kumar\",22)\n",
        "\n",
        "s1.display(2021)\n",
        "s2.display(2019)"
      ],
      "execution_count": 21,
      "outputs": [
        {
          "output_type": "stream",
          "name": "stdout",
          "text": [
            "This is parametrized constructor with no arguments or parameters\n",
            "This is parametrized constructor with no arguments or parameters\n",
            "This is parametrized constructor with no arguments or parameters\n",
            "Student joined IIIT Dharwad   : Ram 21 2021\n",
            "Student joined IIIT Dharwad   : Krishna 23 2019\n",
            "Student has completed the course\n"
          ]
        }
      ]
    },
    {
      "cell_type": "markdown",
      "metadata": {
        "id": "buySbWYk0tQ9"
      },
      "source": [
        "# Program 12 - Python"
      ]
    },
    {
      "cell_type": "code",
      "metadata": {
        "colab": {
          "base_uri": "https://localhost:8080/"
        },
        "id": "cv2pTpxQ0w13",
        "outputId": "1538daf8-90ec-49f9-9193-a4d393aa9456"
      },
      "source": [
        "# Python Default Constructor\n",
        "# Example parametrized constructors\n",
        "class student:\n",
        "    name = \"Ram\"\n",
        "    age =  21\n",
        "\n",
        "    def display(self,styear):\n",
        "       print(\"Student joined IIIT Dharwad   :\", self.name, self.age, styear)\n",
        "       if styear <= 2020 :\n",
        "         print (\"Student has completed the course\")\n",
        "       return \n",
        "s1=student()\n",
        "s2=student()\n",
        "s3=student()\n",
        "\n",
        "s1.display(2021)\n",
        "s2.display(2019)"
      ],
      "execution_count": 22,
      "outputs": [
        {
          "output_type": "stream",
          "name": "stdout",
          "text": [
            "Student joined IIIT Dharwad   : Ram 21 2021\n",
            "Student joined IIIT Dharwad   : Ram 21 2019\n",
            "Student has completed the course\n"
          ]
        }
      ]
    },
    {
      "cell_type": "markdown",
      "metadata": {
        "id": "dIs6teGI0xFj"
      },
      "source": [
        "# Program 13 - Python\n",
        "Write your code in Python and create a parametrized constructor"
      ]
    },
    {
      "cell_type": "code",
      "metadata": {
        "colab": {
          "base_uri": "https://localhost:8080/"
        },
        "id": "NdYAMaP801Pc",
        "outputId": "3de73283-3d50-4cdc-835c-15a3505f2815"
      },
      "source": [
        "class Addition:\n",
        "\tfirst = 0\n",
        "\tsecond = 0\n",
        "\tanswer = 0\n",
        "\t\n",
        "\t# parameterized constructor\n",
        "\tdef __init__(self, f, s):\n",
        "\t\tself.first = f\n",
        "\t\tself.second = s\n",
        "\t\n",
        "\tdef display(self):\n",
        "\t\tprint(\"First number = \" + str(self.first))\n",
        "\t\tprint(\"Second number = \" + str(self.second))\n",
        "\t\tprint(\"Addition of two numbers = \" + str(self.answer))\n",
        "\n",
        "\tdef calculate(self):\n",
        "\t\tself.answer = self.first + self.second\n",
        "\n",
        "# creating object of the class\n",
        "# this will invoke parameterized constructor\n",
        "obj = Addition(1000, 2000)\n",
        "\n",
        "# perform Addition\n",
        "obj.calculate()\n",
        "\n",
        "# display result\n",
        "obj.display()"
      ],
      "execution_count": 24,
      "outputs": [
        {
          "output_type": "stream",
          "name": "stdout",
          "text": [
            "First number = 1000\n",
            "Second number = 2000\n",
            "Addition of two numbers = 3000\n"
          ]
        }
      ]
    }
  ]
}